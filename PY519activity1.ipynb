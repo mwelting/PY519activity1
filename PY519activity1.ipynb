{
  "nbformat": 4,
  "nbformat_minor": 0,
  "metadata": {
    "kernelspec": {
      "display_name": "Python 3",
      "language": "python",
      "name": "python3"
    },
    "language_info": {
      "codemirror_mode": {
        "name": "ipython",
        "version": 3
      },
      "file_extension": ".py",
      "mimetype": "text/x-python",
      "name": "python",
      "nbconvert_exporter": "python",
      "pygments_lexer": "ipython3",
      "version": "3.6.3"
    },
    "colab": {
      "name": "PY519activity1.ipynb",
      "provenance": []
    }
  },
  "cells": [
    {
      "cell_type": "markdown",
      "metadata": {
        "id": "flB9cS8y_JUh"
      },
      "source": [
        "# PY519 Spring 2021 Computational Exercise 1\n",
        "\n",
        "Our goal for this exercise is to examine how the random distribution of proteins into dividing cells. We'll simulate data that this kind of random process could generate, and think about how we would analyze it and what that analysis could teach us.\n",
        "\n",
        "But first, let's go over a few Python functions we're going to use a lot today. \n",
        "\n",
        "## Loops\n",
        "Here's the syntax for a for loop in python:\n",
        "\n",
        "```\n",
        "for i in range(0,10) :\n",
        "   #put your first command here\n",
        "   #and another command goes here\n",
        "```\n",
        "\n",
        "In python, the indentation (white space) tells the computer which code is part of the loop and which part is outside of it.\n",
        "\n",
        "Make a loop in the code block below that prints out the value of `i` for each time it goes through the loop. Where does this loop stop?\n"
      ]
    },
    {
      "cell_type": "code",
      "metadata": {
        "collapsed": true,
        "id": "LJbmmMgq_JUo"
      },
      "source": [
        "# put your loop code here"
      ],
      "execution_count": null,
      "outputs": []
    },
    {
      "cell_type": "markdown",
      "metadata": {
        "id": "zvZqykZ4_JUp"
      },
      "source": [
        "## Arrays\n",
        "\n",
        "Next, let's go over a few functions within numpy that will come in handy for making arrays.\n",
        "\n",
        "Today, we're going to be simulating the sorting of cellular components when cells divide. To record what happens for many such cells, we'll make arrays. We'll start by making empty markers for where our data will go using `numpy.zeros()`. Try an example below. Add a line to print the `emptyCells` array you created to see what it looks like."
      ]
    },
    {
      "cell_type": "code",
      "metadata": {
        "collapsed": true,
        "id": "GMdreMmc_JUq"
      },
      "source": [
        "import numpy\n",
        "\n",
        "emptyCells=numpy.zeros((10,3)) #Why do I have 2 sets of parentheses here? If you're not sure, check the numpy.zeros() docs."
      ],
      "execution_count": null,
      "outputs": []
    },
    {
      "cell_type": "markdown",
      "metadata": {
        "id": "A_ms0MDf_JUz"
      },
      "source": [
        "Sometimes, we'll want to create an array with evenly spaced elements. For that, we'll use `numpy.linspace()`. Here's an example:"
      ]
    },
    {
      "cell_type": "code",
      "metadata": {
        "collapsed": true,
        "id": "5wwWLEvg_JU1"
      },
      "source": [
        "print(numpy.linspace(1,10,5))"
      ],
      "execution_count": null,
      "outputs": []
    },
    {
      "cell_type": "markdown",
      "metadata": {
        "id": "gNBVAd83_JU9"
      },
      "source": [
        "Ok, that's enough with introductions. Let's get to the meat of what we're going to be working on today.\n",
        "\n",
        "## Distribution of proteins in dividing cells\n",
        "\n",
        "When a cell divides, the internal components get sorted into one of the two daughter cells. For many of these components, there is no predetermined choice for which daughter cell gets each protein and we can model this by flipping a coin.\n",
        "\n",
        "Enter the binomial distribution. Consider a protein in the parent cell. If it goes into daughter cell 1, we’ll call it Heads. If it goes into daughter cell 2, we’ll call it Tails. Following this logic, we can define\n",
        "\n",
        "\\begin{equation}\n",
        "    p = \\text{probability of going to Daughter 1}\\\\\n",
        "    q = 1-p = \\text{probability of going to Daughter 2}\n",
        "\\end{equation}\n",
        "\n",
        "Assuming that there is no active segregation of these molecules (i.e. it really is randomly decided which cell gets the protein) then:\n",
        "\n",
        "\\begin{equation}\n",
        "    p=q=\\frac{1}{2}\n",
        "\\end{equation}\n",
        "\n",
        "If we were to write out the formal definition of have $n_1$ of $N$ molecules partitioned into the Daughter 1 cell, then\n",
        "\n",
        "\\begin{equation}\n",
        "    p(n_1,N) = \\frac{N!}{n_1!(N-n_1)!} p^{n_1} q^{N-n_1}\n",
        "\\end{equation}\n",
        "\n",
        "where the prefactor $\\frac{N!}{n_1!(N-n_1)!}$ takes into account that there are a number of different ways of getting $n_1$ Heads and $N-n_1$ Tails. As an example consider $n_1=1$ and $N=3$. Our coins could come up *htt*, *tht*, *tth*, which is $\\frac{3!}{1!2!}$.\n",
        "\n",
        "Now consider if we have 10 total molecules. On average we would expect that each Daughter cell ends up with 5 of these molecules. This can be written out as\n",
        "\n",
        "\\begin{equation}\n",
        "    \\langle n_1 \\rangle = Np\n",
        "\\end{equation}\n",
        "\n",
        "Now let’s consider what our possible outcomes can look like and how the number of coins will effect the size of our distribution. Let’s write a short for loop in python to simulate what this distribution would look like over 10000 dividing cells, each starting with 10 molecules in the parent cell."
      ]
    },
    {
      "cell_type": "code",
      "metadata": {
        "collapsed": true,
        "scrolled": true,
        "id": "loxwhguM_JU-"
      },
      "source": [
        "import matplotlib\n",
        "import matplotlib.pyplot\n",
        "\n",
        "import time\n",
        "%matplotlib inline\n",
        "#the command above makes your graphs appear inline in your notebook\n",
        "fig, ax = matplotlib.pyplot.subplots() #we'll be using this to make plots\n",
        "\n",
        "currTime = round(time.time())\n",
        "numpy.random.seed(currTime) #This seeds the random number generator based on the current time.\n",
        "\n",
        "\n",
        "    \n",
        "N=10 # number of molecules in the parent cell\n",
        "n=10000 #number of cell divisions to simulate\n",
        "p = numpy.zeros(n)\n",
        "for i in range(0,n): #iterate over the number of divisions\n",
        "    for j in range(0,N): #iterate over the number of molecules in the parent cell\n",
        "        coinFlip=numpy.random.random()\n",
        "        if coinFlip<0.5:\n",
        "            p[i] = p[i] + 1\n",
        "\n",
        "numberOfBins=10\n",
        "hist, binEdges = numpy.histogram(p,numberOfBins) #outputs a histogram with 10 bins and automatically computes the bin edges\n",
        "\n",
        "# binEdges outputs both the left and right edges of the bins. \n",
        "# Before you make the plot, add an array that computes the centers from the values of these edges. \n",
        "#You will probably want to make a loop.\n",
        "\n",
        "binCenters = numpy.zeros(numberOfBins)\n",
        "\n",
        "\n",
        "\n",
        "ax.plot(binCenters,hist)\n",
        "\n",
        "\n",
        "\n",
        "\n"
      ],
      "execution_count": null,
      "outputs": []
    },
    {
      "cell_type": "markdown",
      "metadata": {
        "collapsed": true,
        "id": "UCaT1jXl_JU-"
      },
      "source": [
        "Next, let's examine how the width of the distribution depends on the number of molecules in each parent cell.\n",
        "\n",
        "\n",
        "\n",
        "To do this, we're going to need to turn `p` into a two-dimensional array (one dimension for the number of molecules in each cell, as before, and one for the number of molecules in each parent cell). \n",
        "\n",
        "\n",
        "\n",
        "In the block of code below, use `numpy.linspace()` to define N, the different numbers of molecules we'll have in each parent cell. Let's do this for 5 different numbers, evenly spaced between 10 and 200. Note that the number of molecules should be an integer. You can add the optional argument `dtype='int'` to make the array created by linspace have integers.\n"
      ]
    },
    {
      "cell_type": "code",
      "metadata": {
        "collapsed": true,
        "id": "cSBqiwtQ_JU-"
      },
      "source": [
        "n=10000 #number of cell divisions to iterate over\n",
        "\n",
        "N = #define number of molecules to interate over in each parent cell, see above.\n",
        "\n",
        "p = numpy.zeros((len(N),n))"
      ],
      "execution_count": null,
      "outputs": []
    },
    {
      "cell_type": "markdown",
      "metadata": {
        "id": "gdMQbZdL_JU_"
      },
      "source": [
        "Now we're going to need to add another layer of loops, so we iterate over the number of molecules in the parent cells, and the two loops we had before (the number of cells and the molecules in each parent cell). Add a third loop (and appropriate whitespace) to the code below to do this.\n",
        "\n",
        "You should add the following lines of code somewhere in the block below in order to do this over different numbers of molecules in the parent cell. You need to figure out where to add the lines (and change any spacing as appropriate). You'll also need to modify the code in the original loops since N is now an array instead of a single integer.\n",
        "\n",
        "\n",
        "`for i in range(0,len(N)): #iterate over the number of molecules`"
      ]
    },
    {
      "cell_type": "code",
      "metadata": {
        "collapsed": true,
        "id": "2kgBH2bS_JVB"
      },
      "source": [
        "fig, ax = matplotlib.pyplot.subplots() #reset the figure that we will use below\n",
        "\n",
        "\n",
        "numberOfBins=10\n",
        "hist=numpy.zeros((len(N),numberOfBins))\n",
        "binCenters=numpy.zeros((len(N),numberOfBins))\n",
        "\n",
        "\n",
        "for j in range(0,n): #number of cell divisions\n",
        "    for k in range(0,N): #now iterate over the molecules in the parent cell \n",
        "        coinFlip=numpy.random.random()\n",
        "        if coinFlip<0.5:\n",
        "            p[i,j] = p[i,j] + 1 #why is this now p[i,j] while it was p[i] above?\n",
        "hist[i,:], binEdges = numpy.histogram(p[i,:],numberOfBins); \n",
        "#note that binEdges just gets reused and overwritten each time this loops. Is that ok?\n",
        "for j in range(0,numberOfBins):\n",
        "    binCenters[i,j]=(binEdges[j]+binEdges[j+1])/2;\n",
        "\n",
        "\n",
        "ax.plot(binCenters[i,:],hist[i,:])\n",
        "\n"
      ],
      "execution_count": null,
      "outputs": []
    },
    {
      "cell_type": "markdown",
      "metadata": {
        "id": "pH00JXHV_JVC"
      },
      "source": [
        "This plot is nice, but it's missing something we should always have when we make a plot - axis labels. Let's add some and remake the plot."
      ]
    },
    {
      "cell_type": "code",
      "metadata": {
        "collapsed": true,
        "id": "1IOhO81n_JVC"
      },
      "source": [
        "fig, ax = matplotlib.pyplot.subplots() #reset the figure that we will use below\n",
        "ax.set_xlabel('YOUR LABEL HERE') \n",
        "ax.set_ylabel('YOUR LABEL HERE') \n",
        "\n",
        "for i in range(0,len(N)) :\n",
        "    ax.plot(binCenters[i,:],hist[i,:])"
      ],
      "execution_count": null,
      "outputs": []
    },
    {
      "cell_type": "markdown",
      "metadata": {
        "collapsed": true,
        "id": "w8JFOceO_JVC"
      },
      "source": [
        "Notice how the spread of the distribution gets wider as we increase the number of coin flips? We can describe this spread using the standard deviation which, as you will derive in the first homework, is given by:\n",
        "\n",
        "\\begin{equation}\n",
        "    \\langle n_1^2 \\rangle - \\langle n_1 \\rangle ^2 = Npq\n",
        "\\end{equation}\n",
        "\n",
        "There are many different ways to characterize the fluctuations, but we’re going to look at the ratio of the standard deviation to the average\n",
        "\n",
        "\\begin{equation}\n",
        "    \\frac{ \\sqrt{\\langle n_1^2 \\rangle - \\langle n_1 \\rangle ^2}}{\\langle n_1 \\rangle} = \\frac{Npq}{Np} = \\frac{q}{N}\n",
        "\\end{equation}\n",
        "\n",
        "remember that in this case $p=q=\\frac{1}{2}$. What this result tells us is that when the number of molecules is small (i.e., say, $N<100$), the cell to cell variation is itself a significant fraction of the mean. \n",
        "\n",
        "Let’s put this into practice and try to count the number of fluorescent proteins (which we could attach to any number of different proteins in a real cell).\n",
        "\n",
        "This time, we're going to keep track of the outcome of both of the daughter cells in our experiment. For each coin flip, we'll note down whether our protein ended up in daughter 1 or daughter 2. We're going to note how the variation in the number of proteins in each pair of daughters varies over different numbers of molecules N in the parent cell. So let's make some new empty arrays for each daughter. As before, we'll do this over n number of parent cells, but this time we'll iterate over a whole range of N. \n",
        "\n",
        "Add some lines of code to the block below to define the empy arrays for the daughters and to allocate the molecules to each daughter according to the coin flip."
      ]
    },
    {
      "cell_type": "code",
      "metadata": {
        "collapsed": true,
        "id": "YsS8wokZ_JVC"
      },
      "source": [
        "n=10000 #number of cell divisions to iterate over\n",
        "N=numpy.linspace(10,200,10,dtype='int') #number of molecules to iterate over \n",
        "daughter1 = #define the empty array for daughter cell 1\n",
        "daughter2 = #define the empty array for daughter cell 2\n",
        "\n",
        "\n",
        "numberOfBins=10\n",
        "hist=numpy.zeros((len(N),numberOfBins))\n",
        "\n",
        "binCenters=numpy.zeros((len(N),numberOfBins))\n",
        "\n",
        "for i in range(0,len(N)): #iterate over the different numbers of molecules per parent cell\n",
        "    print(i) #printing the current iteration helps you monitor the progress of your code.\n",
        "    for j in range(0,n): #number of cell divisions\n",
        "        for k in range(0,N[i]): #now actually iterate over the molecules in the parent cell\n",
        "            coinFlip=numpy.random.random()\n",
        "            if coinFlip<0.5:\n",
        "                daughter1[i,j] += daughter1[i,j]\n",
        "            else :\n",
        "                daughter2[i,j] += daughter2[i,j]\n"
      ],
      "execution_count": null,
      "outputs": []
    },
    {
      "cell_type": "markdown",
      "metadata": {
        "collapsed": true,
        "id": "r51q54xa_JVC"
      },
      "source": [
        "Now, in an actual experiment, we would measure the intensity rather than the number of fluorescent proteins. These relate in the following way:\n",
        "\n",
        "\\begin{equation}\n",
        "    I_{total} = \\alpha N_{total}\n",
        "\\end{equation}\n",
        "\n",
        "where $\\alpha$ is just some sort of calibration factor that allows us to relate the two quantities. Here, let's take `alpha=50`.\n",
        "\n",
        "Now that we have the number of molecules in the parent cell and in each daughter from the code below, we can define `Itot` (the starting intensity from the parent cell), `I1`, and `I2`. Do that in the block below:"
      ]
    },
    {
      "cell_type": "code",
      "metadata": {
        "collapsed": true,
        "id": "M0JFhmRY_JVE"
      },
      "source": [
        "alpha = 50\n",
        "\n",
        "Itot = \n",
        "I1 = \n",
        "I2 = "
      ],
      "execution_count": null,
      "outputs": []
    },
    {
      "cell_type": "markdown",
      "metadata": {
        "id": "0rFn0XMW_JVE"
      },
      "source": [
        "Now, let's plot the intensities between daughters and see what we notice.\n",
        "\n",
        "Write some code below to plot I1 vs. I2 for each set of daughter cells (at each of the number of molecules N where we simulated our data). You should plot your data with markers instead of lines. You can do this by adding the argument `*` to the end of `ax.plot` like this:\n",
        "\n",
        "`ax.plot(x,y,'*')`\n",
        "\n",
        "Make sure to label your axes.\n",
        "\n",
        "\n"
      ]
    },
    {
      "cell_type": "code",
      "metadata": {
        "collapsed": true,
        "id": "XUdEnuCE_JVE"
      },
      "source": [
        "fig, ax = matplotlib.pyplot.subplots() #reset the figure that we will use below\n",
        "\n",
        "#add code here to make the plot\n",
        "\n",
        "\n",
        "\n"
      ],
      "execution_count": null,
      "outputs": []
    },
    {
      "cell_type": "markdown",
      "metadata": {
        "id": "HLDDhd0V_JVE"
      },
      "source": [
        "Hopefully you notice that as the number of molecules increases the variation increases.\n",
        "\n",
        "Now let’s plot the intensity of the parent cell against the fluctuations in the partitioning. The intensity of the parent is just `Itot` while the fluctuations in the partitioning is given by the magnitude of the difference between `I1` and `I2`. Write some code below to plot these against each other. Some useful tips:\n",
        "* Note that `*` will multiply each element of an array by the corresponding element of another array (of the same size). I.e., it's not matrix multiplication. \n",
        "* The function `numpy.sqrt` will return an array for the squareroot of every element."
      ]
    },
    {
      "cell_type": "code",
      "metadata": {
        "collapsed": true,
        "id": "RNOKr60q_JVE"
      },
      "source": [
        "fig, ax = matplotlib.pyplot.subplots() #reset the figure that we will use below\n",
        "\n",
        "\n",
        "partitionFluctuation = \n",
        "for i in range(0,len(I1)) :\n",
        "    ax.plot(Itot[i]*numpy.ones(len(partitionFluctuation[i])),partitionFluctuation[i],'*')\n",
        "\n",
        "ax.set_xlabel('X LABEL') \n",
        "ax.set_ylabel('Y LABEL') "
      ],
      "execution_count": null,
      "outputs": []
    },
    {
      "cell_type": "markdown",
      "metadata": {
        "collapsed": true,
        "id": "9G8YAbVS_JVF"
      },
      "source": [
        "Now we can see that this fluctuation is higher the greater the number of molecules in the parent. Now let’s see if we can use the simulated data to infer what the calibration factor was (which in this case we chose, but in a real experiment we would not know). It can be shown (e.g. in the next problem set ...) that \n",
        "\n",
        "\\begin{equation}\n",
        "    \\langle (I_1 - I_2)^2 \\rangle = \\alpha I_{tot}\n",
        "\\end{equation}\n",
        "\n",
        "We can calculate the left hand side by `numpy.mean((I1-I2)*(I1-I2))`, but adding indices to specify which elements of I1 and I2 we want to use, since we'll iterate over the parent intensities when we take the means.\n",
        "\n",
        "Do that below and then plot as a function of the parent intensity.\n"
      ]
    },
    {
      "cell_type": "code",
      "metadata": {
        "collapsed": true,
        "id": "-JSYIFLE_JVG"
      },
      "source": [
        "fig, ax = matplotlib.pyplot.subplots() #reset the figure that we will use below\n",
        "meanPartitioningSquare=numpy.zeros(len(I1))\n",
        "\n",
        "#add code to make the plot    \n",
        "\n",
        "ax.set_xlabel('Intensity of parent') \n",
        "ax.set_ylabel('Mean Partition Squared') \n",
        "\n"
      ],
      "execution_count": null,
      "outputs": []
    },
    {
      "cell_type": "markdown",
      "metadata": {
        "id": "XcFqHmP8_JVG"
      },
      "source": [
        "Now, if we imagine this as the output from our experiment, we could fit this data to a line and calculate our intensity scaling factor, $\\alpha$. I've included code to calculate the coefficients. You should add code to plot the output of the fit on top of the data."
      ]
    },
    {
      "cell_type": "code",
      "metadata": {
        "collapsed": true,
        "id": "G8Eib3AW_JVG"
      },
      "source": [
        "fig, ax = matplotlib.pyplot.subplots() #reset the figure that we will use below\n",
        "\n",
        "coeff=numpy.polyfit(Itot,meanPartitioningSquare,1) #calculates the coefficients of the fit\n",
        "print(coeff)\n",
        "\n",
        "#you shoudl plot the data with the fit on top of it\n",
        "\n",
        "ax.plot(Itot,meanPartitioningSquare,'*')\n",
        "ax.plot(intensityRange,fitData)\n",
        "ax.set_xlabel('Intensity of parent') \n",
        "ax.set_ylabel('Mean Partition Squared') \n"
      ],
      "execution_count": null,
      "outputs": []
    }
  ]
}